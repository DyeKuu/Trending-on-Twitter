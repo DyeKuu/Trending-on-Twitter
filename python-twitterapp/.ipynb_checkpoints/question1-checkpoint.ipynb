{
 "cells": [
  {
   "cell_type": "code",
   "execution_count": 1,
   "metadata": {},
   "outputs": [],
   "source": [
    "from pyspark.sql import SparkSession, SQLContext\n",
    "from pyspark import SparkContext, SparkConf\n",
    "import os\n",
    "import json"
   ]
  },
  {
   "cell_type": "code",
   "execution_count": 2,
   "metadata": {},
   "outputs": [],
   "source": [
    "DATA_PATH = '../data/French/'\n",
    "files = os.listdir(DATA_PATH)\n",
    "files_path = [DATA_PATH+f for f in files]\n",
    "conf = SparkConf().setAppName(\"question1\").setMaster(\"local[*]\")\n",
    "sc = SparkContext(conf=conf)\n",
    "spark = SparkSession(sc)\n",
    "tweets = spark.read.json(files_path)"
   ]
  },
  {
   "cell_type": "code",
   "execution_count": 3,
   "metadata": {},
   "outputs": [],
   "source": [
    "lines = sc.textFile(','.join(files_path))"
   ]
  },
  {
   "cell_type": "code",
   "execution_count": 4,
   "metadata": {},
   "outputs": [],
   "source": [
    "lines = lines.map(lambda line: json.loads(line))"
   ]
  },
  {
   "cell_type": "code",
   "execution_count": 5,
   "metadata": {},
   "outputs": [],
   "source": [
    "import datetime\n",
    "date_time_begin_str = 'Sat Feb 1 20:00:00 +0000 2020'\n",
    "date_time_end_str = 'Sun Feb 2 20:00:00 +0000 2020'\n",
    "date_time_pattern = '%a %b %d %H:%M:%S %z %Y'\n",
    "date_time_begin_obj = datetime.datetime.strptime(date_time_begin_str, date_time_pattern)\n",
    "date_time_end_obj = datetime.datetime.strptime(date_time_end_str, date_time_pattern)"
   ]
  },
  {
   "cell_type": "code",
   "execution_count": 23,
   "metadata": {},
   "outputs": [],
   "source": [
    "def filter_time_range(s):\n",
    "    print(s.keys())\n",
    "    curr_datetime = datetime.datetime.strptime(s['created_at'],date_time_pattern)\n",
    "    return curr_datetime > date_time_begin_obj and curr_datetime < date_time_end_obj\n",
    "a = lines.filter(filter_time_range)\\\n",
    "    .map(lambda d: d['text'])\\\n",
    "    .flatMap(lambda s: s.strip().split())"
   ]
  },
  {
   "cell_type": "code",
   "execution_count": 24,
   "metadata": {},
   "outputs": [],
   "source": [
    "b = a.map(lambda x: (x, 1))\\\n",
    "    .reduceByKey(lambda a, b: a + b)\\\n",
    "    .max(key=lambda x: x[1])"
   ]
  },
  {
   "cell_type": "code",
   "execution_count": 25,
   "metadata": {},
   "outputs": [
    {
     "data": {
      "text/plain": [
       "('RT', 48409)"
      ]
     },
     "execution_count": 25,
     "metadata": {},
     "output_type": "execute_result"
    }
   ],
   "source": [
    "b"
   ]
  },
  {
   "cell_type": "code",
   "execution_count": null,
   "metadata": {},
   "outputs": [],
   "source": []
  }
 ],
 "metadata": {
  "kernelspec": {
   "display_name": "Python 3",
   "language": "python",
   "name": "python3"
  },
  "language_info": {
   "codemirror_mode": {
    "name": "ipython",
    "version": 3
   },
   "file_extension": ".py",
   "mimetype": "text/x-python",
   "name": "python",
   "nbconvert_exporter": "python",
   "pygments_lexer": "ipython3",
   "version": "3.7.6"
  }
 },
 "nbformat": 4,
 "nbformat_minor": 2
}
