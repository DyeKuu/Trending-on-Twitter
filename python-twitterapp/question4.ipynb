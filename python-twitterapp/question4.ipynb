{
 "cells": [
  {
   "cell_type": "code",
   "execution_count": 1,
   "metadata": {},
   "outputs": [],
   "source": [
    "from prelude import *\n",
    "import pandas as pd"
   ]
  },
  {
   "cell_type": "code",
   "execution_count": 2,
   "metadata": {},
   "outputs": [],
   "source": [
    "conf = SparkConf().setAppName(\"question4\").setMaster(\"local[*]\")\n",
    "sc = SparkContext(conf=conf)\n",
    "spark = SparkSession(sc)\n",
    "spark.conf.set('spark.sql.repl.eagerEval.enabled', True)\n",
    "lines = sc.textFile('../data/French/')\n",
    "lines = lines.map(lambda line: json.loads(line))"
   ]
  },
  {
   "cell_type": "code",
   "execution_count": 7,
   "metadata": {},
   "outputs": [
    {
     "data": {
      "text/plain": [
       "[('Macron', 776),\n",
       " ('Mila', 691),\n",
       " ('Concours', 671),\n",
       " ('coronavirus', 610),\n",
       " ('LREM', 522),\n",
       " ('Paris', 469),\n",
       " ('GiletsJaunes', 464),\n",
       " ('iHeartAwards', 449),\n",
       " ('AsimForTheWin', 404),\n",
       " ('ASSEOM', 384),\n",
       " ('CONCOURS', 366),\n",
       " ('retraites', 352),\n",
       " ('Municipales2020', 347),\n",
       " ('Brexit', 330),\n",
       " ('FCGBOM', 303),\n",
       " ('AsliFans', 285),\n",
       " ('BB13OnVoot', 284),\n",
       " ('RT', 273),\n",
       " ('PSGMHSC', 270),\n",
       " ('SuperBowl', 267)]"
      ]
     },
     "execution_count": 7,
     "metadata": {},
     "output_type": "execute_result"
    }
   ],
   "source": [
    "# see the 20 most fequent hashtags \n",
    "\n",
    "def get_all_hashtags(s):\n",
    "    hashtags = s['entities']['hashtags']\n",
    "    res = []\n",
    "    for hashtag in hashtags:\n",
    "        res.append((hashtag['text'], 1))\n",
    "    return res\n",
    "\n",
    "\n",
    "lines.flatMap(get_all_hashtags).reduceByKey(lambda a, b: a + b).sortBy(lambda x: x[1], ascending = False).take(20)"
   ]
  },
  {
   "cell_type": "code",
   "execution_count": 36,
   "metadata": {},
   "outputs": [],
   "source": [
    "'''\n",
    "alpha: float, confidence level\n",
    "target_hashtag: string, the hashtag to perform anomaly detection on \n",
    "target_eta: float, threshold for anomaly detection\n",
    "time_interval_x : int, time interval for a single data point to count hashtags\n",
    "'''\n",
    "\n",
    "alpha = 0.99\n",
    "target_hashtag = 'SuperBowl'\n",
    "target_eta = 1\n",
    "time_interval_day = 0\n",
    "time_interval_hour = 2\n",
    "time_interval_minute = 0\n",
    "time_interval_second = 0\n",
    "\n",
    "date_time_begin_str = 'Fri Jan 31 23:00:00 +0000 2020'\n",
    "date_time_end_str = 'Fri Feb 07 23:30:00 +0000 2020'\n",
    "date_time_pattern = '%a %b %d %H:%M:%S %z %Y'\n",
    "df_date_time_pattern = '%Y-%m-%d %H:%M:%S'\n",
    "\n",
    "date_time_begin_obj = datetime.datetime.strptime(\n",
    "    date_time_begin_str, date_time_pattern)\n",
    "date_time_end_obj = datetime.datetime.strptime(\n",
    "    date_time_end_str, date_time_pattern)\n",
    "\n",
    "delta_time = datetime.timedelta(\n",
    "     seconds=time_interval_second,\n",
    "     minutes=time_interval_minute,\n",
    "     hours=time_interval_hour,\n",
    "     days=time_interval_day,\n",
    "     )"
   ]
  },
  {
   "cell_type": "code",
   "execution_count": 9,
   "metadata": {},
   "outputs": [
    {
     "data": {
      "text/plain": [
       "[{'created_at': 'Fri Jan 31 22:59:55 +0000 2020',\n",
       "  'id': 1223380418189299714,\n",
       "  'id_str': '1223380418189299714',\n",
       "  'text': \"@Yazidinhok ptdrrrrrrrrr je sais que c'est du cinema fast-food mais bon même pas un sur les 150 000 sortis, c'est abusé\",\n",
       "  'display_text_range': [12, 119],\n",
       "  'source': '<a href=\"https://mobile.twitter.com\" rel=\"nofollow\">Twitter Web App</a>',\n",
       "  'truncated': False,\n",
       "  'in_reply_to_status_id': 1223379548525531136,\n",
       "  'in_reply_to_status_id_str': '1223379548525531136',\n",
       "  'in_reply_to_user_id': 3435541767,\n",
       "  'in_reply_to_user_id_str': '3435541767',\n",
       "  'in_reply_to_screen_name': 'Yazidinhok',\n",
       "  'user': {'id': 1039569053428469760,\n",
       "   'id_str': '1039569053428469760',\n",
       "   'name': 'Walid.',\n",
       "   'screen_name': 'walid_srh',\n",
       "   'location': 'Paris, France',\n",
       "   'url': 'https://twitter.com/warriors/status/741477884888391681?s=21',\n",
       "   'description': '| W.Y | ceux qui manquent sont déjà partis | T.C.O',\n",
       "   'translator_type': 'none',\n",
       "   'protected': False,\n",
       "   'verified': False,\n",
       "   'followers_count': 2000,\n",
       "   'friends_count': 325,\n",
       "   'listed_count': 10,\n",
       "   'favourites_count': 5232,\n",
       "   'statuses_count': 55143,\n",
       "   'created_at': 'Tue Sep 11 17:39:11 +0000 2018',\n",
       "   'utc_offset': None,\n",
       "   'time_zone': None,\n",
       "   'geo_enabled': True,\n",
       "   'lang': None,\n",
       "   'contributors_enabled': False,\n",
       "   'is_translator': False,\n",
       "   'profile_background_color': '000000',\n",
       "   'profile_background_image_url': 'http://abs.twimg.com/images/themes/theme1/bg.png',\n",
       "   'profile_background_image_url_https': 'https://abs.twimg.com/images/themes/theme1/bg.png',\n",
       "   'profile_background_tile': False,\n",
       "   'profile_link_color': '0B2F3A',\n",
       "   'profile_sidebar_border_color': '000000',\n",
       "   'profile_sidebar_fill_color': '000000',\n",
       "   'profile_text_color': '000000',\n",
       "   'profile_use_background_image': False,\n",
       "   'profile_image_url': 'http://pbs.twimg.com/profile_images/1223356825900322817/APe8vaW2_normal.jpg',\n",
       "   'profile_image_url_https': 'https://pbs.twimg.com/profile_images/1223356825900322817/APe8vaW2_normal.jpg',\n",
       "   'profile_banner_url': 'https://pbs.twimg.com/profile_banners/1039569053428469760/1576373157',\n",
       "   'default_profile': False,\n",
       "   'default_profile_image': False,\n",
       "   'following': None,\n",
       "   'follow_request_sent': None,\n",
       "   'notifications': None},\n",
       "  'geo': None,\n",
       "  'coordinates': None,\n",
       "  'place': None,\n",
       "  'contributors': None,\n",
       "  'is_quote_status': False,\n",
       "  'quote_count': 0,\n",
       "  'reply_count': 0,\n",
       "  'retweet_count': 0,\n",
       "  'favorite_count': 0,\n",
       "  'entities': {'hashtags': [],\n",
       "   'urls': [],\n",
       "   'user_mentions': [{'screen_name': 'Yazidinhok',\n",
       "     'name': 'Yazid.',\n",
       "     'id': 3435541767,\n",
       "     'id_str': '3435541767',\n",
       "     'indices': [0, 11]}],\n",
       "   'symbols': []},\n",
       "  'favorited': False,\n",
       "  'retweeted': False,\n",
       "  'filter_level': 'low',\n",
       "  'lang': 'fr',\n",
       "  'timestamp_ms': '1580511595662'}]"
      ]
     },
     "execution_count": 9,
     "metadata": {},
     "output_type": "execute_result"
    }
   ],
   "source": [
    "# see content of one row\n",
    "lines.take(1)"
   ]
  },
  {
   "cell_type": "code",
   "execution_count": 10,
   "metadata": {},
   "outputs": [],
   "source": [
    "def get_time_period(s, time_bucket_size, time_start_at):\n",
    "    '''\n",
    "    Assign the created time period to a tweet. The time periods start at time_start_at, with size of time_bucket_size\n",
    "    input:\n",
    "        s: row in RDD\n",
    "        time_bucket_size: datetiem.timedelta\n",
    "        time_start_at: datetime.datetime\n",
    "    \n",
    "    return:\n",
    "        date_time_time_period_str: string, the time period the tweet created at\n",
    "        (date_time_time_period_str, 1)\n",
    "    '''\n",
    "    curr_datetime = datetime.datetime.strptime(\n",
    "        s['created_at'], date_time_pattern)\n",
    "    date_time_time_period = ((curr_datetime - time_start_at)//time_bucket_size) * time_bucket_size + time_start_at\n",
    "    date_time_time_period_str = date_time_time_period.strftime('%Y-%m-%d %H:%M:%S')\n",
    "    return (date_time_time_period_str, 1)\n",
    "    \n",
    "    \n",
    "def filter_hashtag(s, target_hashtag):\n",
    "    '''\n",
    "    Filter the tweet who contains target_hashtag\n",
    "    '''\n",
    "    hashtags = list(map(lambda h: h['text'], s['entities']['hashtags']))\n",
    "    return target_hashtag in hashtags"
   ]
  },
  {
   "cell_type": "code",
   "execution_count": 11,
   "metadata": {},
   "outputs": [],
   "source": [
    "# filter the tweet with target hashtag\n",
    "tweet_with_hashtag = lines.filter(lambda s: filter_hashtag(s, target_hashtag))"
   ]
  },
  {
   "cell_type": "code",
   "execution_count": 12,
   "metadata": {},
   "outputs": [],
   "source": [
    "# get the count of tweet with target hashtag within a time inteval\n",
    "hashtag_trend = tweet_with_hashtag.map(lambda s: get_time_period(s, delta_time, date_time_begin_obj)).reduceByKey(lambda a, b: a + b)"
   ]
  },
  {
   "cell_type": "code",
   "execution_count": 13,
   "metadata": {},
   "outputs": [],
   "source": [
    "# convert the result into pandas(the size is already small enough)\n",
    "hashtag_trend_df = spark.createDataFrame(hashtag_trend,schema=['t', 'hashtag_count']).toPandas()"
   ]
  },
  {
   "cell_type": "code",
   "execution_count": 22,
   "metadata": {},
   "outputs": [],
   "source": [
    "# convert the format of t\n",
    "hashtag_trend_df['t'] = pd.to_datetime(hashtag_trend_df['t']).dt.strftime(df_date_time_pattern)\n",
    "hashtag_trend_df = hashtag_trend_df.set_index('t')"
   ]
  },
  {
   "cell_type": "code",
   "execution_count": 25,
   "metadata": {},
   "outputs": [],
   "source": [
    "from pandas.tseries.offsets import DateOffset\n",
    "\n",
    "# Create dataframe with full time intervals index \n",
    "#(at some time intervals, the tweet count is 0, so no row in hashtag_trend_df to represent this time interval) \n",
    "time_index = pd.date_range(start=date_time_begin_obj, end=date_time_end_obj, freq = delta_time, name='t').strftime(df_date_time_pattern)\n",
    "full_time_index_df = pd.DataFrame(index = time_index)"
   ]
  },
  {
   "cell_type": "code",
   "execution_count": 26,
   "metadata": {},
   "outputs": [],
   "source": [
    "# Fill in the hashtag_trend_df with full time intervals index \n",
    "hashtag_trend_df = full_time_index_df.join(hashtag_trend_df).fillna(0).reset_index()"
   ]
  },
  {
   "cell_type": "code",
   "execution_count": 27,
   "metadata": {},
   "outputs": [
    {
     "data": {
      "text/html": [
       "<div>\n",
       "<style scoped>\n",
       "    .dataframe tbody tr th:only-of-type {\n",
       "        vertical-align: middle;\n",
       "    }\n",
       "\n",
       "    .dataframe tbody tr th {\n",
       "        vertical-align: top;\n",
       "    }\n",
       "\n",
       "    .dataframe thead th {\n",
       "        text-align: right;\n",
       "    }\n",
       "</style>\n",
       "<table border=\"1\" class=\"dataframe\">\n",
       "  <thead>\n",
       "    <tr style=\"text-align: right;\">\n",
       "      <th></th>\n",
       "      <th>t</th>\n",
       "      <th>hashtag_count</th>\n",
       "    </tr>\n",
       "  </thead>\n",
       "  <tbody>\n",
       "    <tr>\n",
       "      <th>0</th>\n",
       "      <td>2020-01-31 23:00:00</td>\n",
       "      <td>1.0</td>\n",
       "    </tr>\n",
       "    <tr>\n",
       "      <th>1</th>\n",
       "      <td>2020-02-01 01:00:00</td>\n",
       "      <td>0.0</td>\n",
       "    </tr>\n",
       "    <tr>\n",
       "      <th>2</th>\n",
       "      <td>2020-02-01 03:00:00</td>\n",
       "      <td>0.0</td>\n",
       "    </tr>\n",
       "    <tr>\n",
       "      <th>3</th>\n",
       "      <td>2020-02-01 05:00:00</td>\n",
       "      <td>0.0</td>\n",
       "    </tr>\n",
       "    <tr>\n",
       "      <th>4</th>\n",
       "      <td>2020-02-01 07:00:00</td>\n",
       "      <td>0.0</td>\n",
       "    </tr>\n",
       "    <tr>\n",
       "      <th>...</th>\n",
       "      <td>...</td>\n",
       "      <td>...</td>\n",
       "    </tr>\n",
       "    <tr>\n",
       "      <th>80</th>\n",
       "      <td>2020-02-07 15:00:00</td>\n",
       "      <td>0.0</td>\n",
       "    </tr>\n",
       "    <tr>\n",
       "      <th>81</th>\n",
       "      <td>2020-02-07 17:00:00</td>\n",
       "      <td>0.0</td>\n",
       "    </tr>\n",
       "    <tr>\n",
       "      <th>82</th>\n",
       "      <td>2020-02-07 19:00:00</td>\n",
       "      <td>0.0</td>\n",
       "    </tr>\n",
       "    <tr>\n",
       "      <th>83</th>\n",
       "      <td>2020-02-07 21:00:00</td>\n",
       "      <td>0.0</td>\n",
       "    </tr>\n",
       "    <tr>\n",
       "      <th>84</th>\n",
       "      <td>2020-02-07 23:00:00</td>\n",
       "      <td>0.0</td>\n",
       "    </tr>\n",
       "  </tbody>\n",
       "</table>\n",
       "<p>85 rows × 2 columns</p>\n",
       "</div>"
      ],
      "text/plain": [
       "                      t  hashtag_count\n",
       "0   2020-01-31 23:00:00            1.0\n",
       "1   2020-02-01 01:00:00            0.0\n",
       "2   2020-02-01 03:00:00            0.0\n",
       "3   2020-02-01 05:00:00            0.0\n",
       "4   2020-02-01 07:00:00            0.0\n",
       "..                  ...            ...\n",
       "80  2020-02-07 15:00:00            0.0\n",
       "81  2020-02-07 17:00:00            0.0\n",
       "82  2020-02-07 19:00:00            0.0\n",
       "83  2020-02-07 21:00:00            0.0\n",
       "84  2020-02-07 23:00:00            0.0\n",
       "\n",
       "[85 rows x 2 columns]"
      ]
     },
     "execution_count": 27,
     "metadata": {},
     "output_type": "execute_result"
    }
   ],
   "source": [
    "hashtag_trend_df"
   ]
  },
  {
   "cell_type": "code",
   "execution_count": 29,
   "metadata": {},
   "outputs": [],
   "source": [
    "import scipy.stats.distributions as dists\n",
    "\n",
    "# Calculate eta for each data point\n",
    "\n",
    "def get_eta(row):\n",
    "    \n",
    "    # use simple poisson model, mean = count of the previous point\n",
    "    # inspired by the code https://github.com/twitterdev/Gnip-Trend-Detection/blob/master/gnip_trend_detection/models.py\n",
    "    \n",
    "    index = row.name\n",
    "    if index == 0:\n",
    "        return 0\n",
    "    else:\n",
    "        last_count = hashtag_trend_df.loc[index-1].hashtag_count\n",
    "        \n",
    "    current_count = row.hashtag_count\n",
    "\n",
    "    if last_count == 0 or current_count == 0:\n",
    "        return 0\n",
    "\n",
    "    Delta_r = abs(current_count - last_count) \n",
    "    sensitivity = float(Delta_r)/last_count \n",
    "    delta_r = dists.poisson.interval(alpha,last_count)[1] - dists.poisson.interval(alpha,last_count)[0]\n",
    "    relative_confidence_interval = delta_r/last_count\n",
    "    return sensitivity/relative_confidence_interval\n",
    "\n",
    "\n",
    "hashtag_trend_df['eta'] = 0.\n",
    "hashtag_trend_df['eta'] = hashtag_trend_df.apply(get_eta, axis=1)"
   ]
  },
  {
   "cell_type": "code",
   "execution_count": 30,
   "metadata": {},
   "outputs": [
    {
     "data": {
      "text/html": [
       "<div>\n",
       "<style scoped>\n",
       "    .dataframe tbody tr th:only-of-type {\n",
       "        vertical-align: middle;\n",
       "    }\n",
       "\n",
       "    .dataframe tbody tr th {\n",
       "        vertical-align: top;\n",
       "    }\n",
       "\n",
       "    .dataframe thead th {\n",
       "        text-align: right;\n",
       "    }\n",
       "</style>\n",
       "<table border=\"1\" class=\"dataframe\">\n",
       "  <thead>\n",
       "    <tr style=\"text-align: right;\">\n",
       "      <th></th>\n",
       "      <th>hashtag_count</th>\n",
       "      <th>eta</th>\n",
       "    </tr>\n",
       "    <tr>\n",
       "      <th>t</th>\n",
       "      <th></th>\n",
       "      <th></th>\n",
       "    </tr>\n",
       "  </thead>\n",
       "  <tbody>\n",
       "    <tr>\n",
       "      <th>2020-01-31 23:00:00</th>\n",
       "      <td>1.0</td>\n",
       "      <td>0.0</td>\n",
       "    </tr>\n",
       "    <tr>\n",
       "      <th>2020-02-01 01:00:00</th>\n",
       "      <td>0.0</td>\n",
       "      <td>0.0</td>\n",
       "    </tr>\n",
       "    <tr>\n",
       "      <th>2020-02-01 03:00:00</th>\n",
       "      <td>0.0</td>\n",
       "      <td>0.0</td>\n",
       "    </tr>\n",
       "    <tr>\n",
       "      <th>2020-02-01 05:00:00</th>\n",
       "      <td>0.0</td>\n",
       "      <td>0.0</td>\n",
       "    </tr>\n",
       "    <tr>\n",
       "      <th>2020-02-01 07:00:00</th>\n",
       "      <td>0.0</td>\n",
       "      <td>0.0</td>\n",
       "    </tr>\n",
       "    <tr>\n",
       "      <th>...</th>\n",
       "      <td>...</td>\n",
       "      <td>...</td>\n",
       "    </tr>\n",
       "    <tr>\n",
       "      <th>2020-02-07 15:00:00</th>\n",
       "      <td>0.0</td>\n",
       "      <td>0.0</td>\n",
       "    </tr>\n",
       "    <tr>\n",
       "      <th>2020-02-07 17:00:00</th>\n",
       "      <td>0.0</td>\n",
       "      <td>0.0</td>\n",
       "    </tr>\n",
       "    <tr>\n",
       "      <th>2020-02-07 19:00:00</th>\n",
       "      <td>0.0</td>\n",
       "      <td>0.0</td>\n",
       "    </tr>\n",
       "    <tr>\n",
       "      <th>2020-02-07 21:00:00</th>\n",
       "      <td>0.0</td>\n",
       "      <td>0.0</td>\n",
       "    </tr>\n",
       "    <tr>\n",
       "      <th>2020-02-07 23:00:00</th>\n",
       "      <td>0.0</td>\n",
       "      <td>0.0</td>\n",
       "    </tr>\n",
       "  </tbody>\n",
       "</table>\n",
       "<p>85 rows × 2 columns</p>\n",
       "</div>"
      ],
      "text/plain": [
       "                     hashtag_count  eta\n",
       "t                                      \n",
       "2020-01-31 23:00:00            1.0  0.0\n",
       "2020-02-01 01:00:00            0.0  0.0\n",
       "2020-02-01 03:00:00            0.0  0.0\n",
       "2020-02-01 05:00:00            0.0  0.0\n",
       "2020-02-01 07:00:00            0.0  0.0\n",
       "...                            ...  ...\n",
       "2020-02-07 15:00:00            0.0  0.0\n",
       "2020-02-07 17:00:00            0.0  0.0\n",
       "2020-02-07 19:00:00            0.0  0.0\n",
       "2020-02-07 21:00:00            0.0  0.0\n",
       "2020-02-07 23:00:00            0.0  0.0\n",
       "\n",
       "[85 rows x 2 columns]"
      ]
     },
     "execution_count": 30,
     "metadata": {},
     "output_type": "execute_result"
    }
   ],
   "source": [
    "hashtag_trend_df = hashtag_trend_df.set_index('t')\n",
    "hashtag_trend_df"
   ]
  },
  {
   "cell_type": "code",
   "execution_count": 34,
   "metadata": {},
   "outputs": [
    {
     "data": {
      "image/png": "[encoded data removed]",
      "text/plain": [
       "<Figure size 720x576 with 2 Axes>"
      ]
     },
     "metadata": {
      "needs_background": "light"
     },
     "output_type": "display_data"
    }
   ],
   "source": [
    "axes = hashtag_trend_df.plot.line(subplots=True, title = 'counts of #' + target_hashtag, figsize = (10,8))"
   ]
  },
  {
   "cell_type": "code",
   "execution_count": 39,
   "metadata": {},
   "outputs": [
    {
     "data": {
      "text/plain": [
       "Index(['2020-02-02 19:00:00', '2020-02-02 23:00:00'], dtype='object', name='t')"
      ]
     },
     "execution_count": 39,
     "metadata": {},
     "output_type": "execute_result"
    }
   ],
   "source": [
    "hashtag_trend_df[hashtag_trend_df.eta > target_eta].index"
   ]
  }
 ],
 "metadata": {
  "kernelspec": {
   "display_name": "Python 3",
   "language": "python",
   "name": "python3"
  },
  "language_info": {
   "codemirror_mode": {
    "name": "ipython",
    "version": 3
   },
   "file_extension": ".py",
   "mimetype": "text/x-python",
   "name": "python",
   "nbconvert_exporter": "python",
   "pygments_lexer": "ipython3",
   "version": "3.7.6"
  }
 },
 "nbformat": 4,
 "nbformat_minor": 4
}
