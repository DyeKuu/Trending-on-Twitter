{
 "cells": [
  {
   "cell_type": "code",
   "execution_count": 1,
   "metadata": {},
   "outputs": [],
   "source": [
    "from prelude import *\n",
    "import pandas as pd"
   ]
  },
  {
   "cell_type": "code",
   "execution_count": 2,
   "metadata": {},
   "outputs": [],
   "source": [
    "conf = SparkConf().setAppName(\"question4\").setMaster(\"local[*]\")\n",
    "sc = SparkContext(conf=conf)\n",
    "spark = SparkSession(sc)\n",
    "lines = sc.textFile('../data/French/2020-02-01')\n",
    "lines = lines.map(lambda line: json.loads(line))"
   ]
  },
  {
   "cell_type": "code",
   "execution_count": 3,
   "metadata": {},
   "outputs": [],
   "source": [
    "date_time_begin_str = 'Fri Jan 31 23:00:00 +0000 2020'\n",
    "date_time_end_str = 'Sat Feb 1 23:30:00 +0000 2020'\n",
    "date_time_pattern = '%a %b %d %H:%M:%S %z %Y'\n",
    "target_eta = 5\n",
    "alpha = 0.99\n",
    "target_hashtag = 'Brexit'\n",
    "date_time_begin_obj = datetime.datetime.strptime(\n",
    "    date_time_begin_str, date_time_pattern)\n",
    "date_time_end_obj = datetime.datetime.strptime(\n",
    "    date_time_end_str, date_time_pattern)\n",
    "delta_time = datetime.timedelta(\n",
    "     seconds=0,\n",
    "     minutes=10,\n",
    "     hours=0,\n",
    "     days=0,\n",
    "     )"
   ]
  },
  {
   "cell_type": "code",
   "execution_count": 5,
   "metadata": {},
   "outputs": [
    {
     "data": {
      "text/plain": [
       "[{'created_at': 'Fri Jan 31 22:59:55 +0000 2020',\n",
       "  'id': 1223380418189299714,\n",
       "  'id_str': '1223380418189299714',\n",
       "  'text': \"@Yazidinhok ptdrrrrrrrrr je sais que c'est du cinema fast-food mais bon même pas un sur les 150 000 sortis, c'est abusé\",\n",
       "  'display_text_range': [12, 119],\n",
       "  'source': '<a href=\"https://mobile.twitter.com\" rel=\"nofollow\">Twitter Web App</a>',\n",
       "  'truncated': False,\n",
       "  'in_reply_to_status_id': 1223379548525531136,\n",
       "  'in_reply_to_status_id_str': '1223379548525531136',\n",
       "  'in_reply_to_user_id': 3435541767,\n",
       "  'in_reply_to_user_id_str': '3435541767',\n",
       "  'in_reply_to_screen_name': 'Yazidinhok',\n",
       "  'user': {'id': 1039569053428469760,\n",
       "   'id_str': '1039569053428469760',\n",
       "   'name': 'Walid.',\n",
       "   'screen_name': 'walid_srh',\n",
       "   'location': 'Paris, France',\n",
       "   'url': 'https://twitter.com/warriors/status/741477884888391681?s=21',\n",
       "   'description': '| W.Y | ceux qui manquent sont déjà partis | T.C.O',\n",
       "   'translator_type': 'none',\n",
       "   'protected': False,\n",
       "   'verified': False,\n",
       "   'followers_count': 2000,\n",
       "   'friends_count': 325,\n",
       "   'listed_count': 10,\n",
       "   'favourites_count': 5232,\n",
       "   'statuses_count': 55143,\n",
       "   'created_at': 'Tue Sep 11 17:39:11 +0000 2018',\n",
       "   'utc_offset': None,\n",
       "   'time_zone': None,\n",
       "   'geo_enabled': True,\n",
       "   'lang': None,\n",
       "   'contributors_enabled': False,\n",
       "   'is_translator': False,\n",
       "   'profile_background_color': '000000',\n",
       "   'profile_background_image_url': 'http://abs.twimg.com/images/themes/theme1/bg.png',\n",
       "   'profile_background_image_url_https': 'https://abs.twimg.com/images/themes/theme1/bg.png',\n",
       "   'profile_background_tile': False,\n",
       "   'profile_link_color': '0B2F3A',\n",
       "   'profile_sidebar_border_color': '000000',\n",
       "   'profile_sidebar_fill_color': '000000',\n",
       "   'profile_text_color': '000000',\n",
       "   'profile_use_background_image': False,\n",
       "   'profile_image_url': 'http://pbs.twimg.com/profile_images/1223356825900322817/APe8vaW2_normal.jpg',\n",
       "   'profile_image_url_https': 'https://pbs.twimg.com/profile_images/1223356825900322817/APe8vaW2_normal.jpg',\n",
       "   'profile_banner_url': 'https://pbs.twimg.com/profile_banners/1039569053428469760/1576373157',\n",
       "   'default_profile': False,\n",
       "   'default_profile_image': False,\n",
       "   'following': None,\n",
       "   'follow_request_sent': None,\n",
       "   'notifications': None},\n",
       "  'geo': None,\n",
       "  'coordinates': None,\n",
       "  'place': None,\n",
       "  'contributors': None,\n",
       "  'is_quote_status': False,\n",
       "  'quote_count': 0,\n",
       "  'reply_count': 0,\n",
       "  'retweet_count': 0,\n",
       "  'favorite_count': 0,\n",
       "  'entities': {'hashtags': [],\n",
       "   'urls': [],\n",
       "   'user_mentions': [{'screen_name': 'Yazidinhok',\n",
       "     'name': 'Yazid.',\n",
       "     'id': 3435541767,\n",
       "     'id_str': '3435541767',\n",
       "     'indices': [0, 11]}],\n",
       "   'symbols': []},\n",
       "  'favorited': False,\n",
       "  'retweeted': False,\n",
       "  'filter_level': 'low',\n",
       "  'lang': 'fr',\n",
       "  'timestamp_ms': '1580511595662'}]"
      ]
     },
     "execution_count": 5,
     "metadata": {},
     "output_type": "execute_result"
    }
   ],
   "source": [
    "lines.take(1)"
   ]
  },
  {
   "cell_type": "code",
   "execution_count": 6,
   "metadata": {},
   "outputs": [],
   "source": [
    "def get_time_period(s, time_bucket_size, time_start_at):\n",
    "    '''\n",
    "    s: row in RDD\n",
    "    time_bucket_size: datetiem.timedelta\n",
    "    time_start_at: datetime.datetime\n",
    "    '''\n",
    "    curr_datetime = datetime.datetime.strptime(\n",
    "        s['created_at'], date_time_pattern)\n",
    "    date_time_time_period = ((curr_datetime - time_start_at)//time_bucket_size) * time_bucket_size + time_start_at\n",
    "    date_time_time_period_str = date_time_time_period.strftime('%Y-%m-%d %H:%M:%S')\n",
    "    return (date_time_time_period_str, 1)\n",
    "    \n",
    "    \n",
    "def filter_hashtag(s, target_hashtag):\n",
    "    hashtags = list(map(lambda h: h['text'], s['entities']['hashtags']))\n",
    "    return target_hashtag in hashtags"
   ]
  },
  {
   "cell_type": "code",
   "execution_count": 7,
   "metadata": {},
   "outputs": [],
   "source": [
    "tweet_with_hashtag = lines.filter(lambda s: filter_hashtag(s, target_hashtag))"
   ]
  },
  {
   "cell_type": "code",
   "execution_count": 8,
   "metadata": {},
   "outputs": [],
   "source": [
    "hashtag_trend = tweet_with_hashtag.map(lambda s: get_time_period(s, delta_time, date_time_begin_obj)).reduceByKey(lambda a,b:a+b)"
   ]
  },
  {
   "cell_type": "code",
   "execution_count": 9,
   "metadata": {},
   "outputs": [
    {
     "data": {
      "text/plain": [
       "[('2020-01-31 23:30:00', 2),\n",
       " ('2020-02-01 01:50:00', 1),\n",
       " ('2020-02-01 05:30:00', 1),\n",
       " ('2020-02-01 15:00:00', 3),\n",
       " ('2020-02-01 16:50:00', 1),\n",
       " ('2020-02-01 07:10:00', 2),\n",
       " ('2020-02-01 08:10:00', 1),\n",
       " ('2020-02-01 12:40:00', 1),\n",
       " ('2020-02-01 13:10:00', 1),\n",
       " ('2020-02-01 17:40:00', 3)]"
      ]
     },
     "execution_count": 9,
     "metadata": {},
     "output_type": "execute_result"
    }
   ],
   "source": [
    "hashtag_trend.take(10)"
   ]
  },
  {
   "cell_type": "code",
   "execution_count": 10,
   "metadata": {},
   "outputs": [],
   "source": [
    "hashtag_trend_df = spark.createDataFrame(hashtag_trend,schema=['t', 'hashtag_count']).toPandas()"
   ]
  },
  {
   "cell_type": "code",
   "execution_count": 11,
   "metadata": {},
   "outputs": [],
   "source": [
    "spark.conf.set('spark.sql.repl.eagerEval.enabled', True)\n",
    "hashtag_trend_df['t'] = pd.to_datetime(hashtag_trend_df['t'])\n",
    "hashtag_trend_df = hashtag_trend_df.set_index('t')"
   ]
  },
  {
   "cell_type": "code",
   "execution_count": 12,
   "metadata": {},
   "outputs": [
    {
     "data": {
      "text/html": [
       "<div>\n",
       "<style scoped>\n",
       "    .dataframe tbody tr th:only-of-type {\n",
       "        vertical-align: middle;\n",
       "    }\n",
       "\n",
       "    .dataframe tbody tr th {\n",
       "        vertical-align: top;\n",
       "    }\n",
       "\n",
       "    .dataframe thead th {\n",
       "        text-align: right;\n",
       "    }\n",
       "</style>\n",
       "<table border=\"1\" class=\"dataframe\">\n",
       "  <thead>\n",
       "    <tr style=\"text-align: right;\">\n",
       "      <th></th>\n",
       "      <th>hashtag_count</th>\n",
       "    </tr>\n",
       "    <tr>\n",
       "      <th>t</th>\n",
       "      <th></th>\n",
       "    </tr>\n",
       "  </thead>\n",
       "  <tbody>\n",
       "    <tr>\n",
       "      <th>2020-01-31 23:30:00</th>\n",
       "      <td>2</td>\n",
       "    </tr>\n",
       "    <tr>\n",
       "      <th>2020-02-01 01:50:00</th>\n",
       "      <td>1</td>\n",
       "    </tr>\n",
       "    <tr>\n",
       "      <th>2020-02-01 05:30:00</th>\n",
       "      <td>1</td>\n",
       "    </tr>\n",
       "    <tr>\n",
       "      <th>2020-02-01 15:00:00</th>\n",
       "      <td>3</td>\n",
       "    </tr>\n",
       "    <tr>\n",
       "      <th>2020-02-01 16:50:00</th>\n",
       "      <td>1</td>\n",
       "    </tr>\n",
       "    <tr>\n",
       "      <th>...</th>\n",
       "      <td>...</td>\n",
       "    </tr>\n",
       "    <tr>\n",
       "      <th>2020-02-01 00:40:00</th>\n",
       "      <td>3</td>\n",
       "    </tr>\n",
       "    <tr>\n",
       "      <th>2020-02-01 05:10:00</th>\n",
       "      <td>1</td>\n",
       "    </tr>\n",
       "    <tr>\n",
       "      <th>2020-02-01 06:30:00</th>\n",
       "      <td>1</td>\n",
       "    </tr>\n",
       "    <tr>\n",
       "      <th>2020-02-01 09:30:00</th>\n",
       "      <td>4</td>\n",
       "    </tr>\n",
       "    <tr>\n",
       "      <th>2020-02-01 15:10:00</th>\n",
       "      <td>1</td>\n",
       "    </tr>\n",
       "  </tbody>\n",
       "</table>\n",
       "<p>97 rows × 1 columns</p>\n",
       "</div>"
      ],
      "text/plain": [
       "                     hashtag_count\n",
       "t                                 \n",
       "2020-01-31 23:30:00              2\n",
       "2020-02-01 01:50:00              1\n",
       "2020-02-01 05:30:00              1\n",
       "2020-02-01 15:00:00              3\n",
       "2020-02-01 16:50:00              1\n",
       "...                            ...\n",
       "2020-02-01 00:40:00              3\n",
       "2020-02-01 05:10:00              1\n",
       "2020-02-01 06:30:00              1\n",
       "2020-02-01 09:30:00              4\n",
       "2020-02-01 15:10:00              1\n",
       "\n",
       "[97 rows x 1 columns]"
      ]
     },
     "execution_count": 12,
     "metadata": {},
     "output_type": "execute_result"
    }
   ],
   "source": [
    "hashtag_trend_df"
   ]
  },
  {
   "cell_type": "code",
   "execution_count": 13,
   "metadata": {},
   "outputs": [],
   "source": [
    "from pandas.tseries.offsets import DateOffset\n",
    "time_index = pd.date_range(start=date_time_begin_obj, end=date_time_end_obj, freq = delta_time, name='t').strftime('%Y-%m-%d %H:%M:%S')\n",
    "full_time_index_df = pd.DataFrame(index = time_index)"
   ]
  },
  {
   "cell_type": "code",
   "execution_count": 15,
   "metadata": {},
   "outputs": [],
   "source": [
    "hashtag_trend_df = full_time_index_df.join(hashtag_trend_df).fillna(0).reset_index()"
   ]
  },
  {
   "cell_type": "code",
   "execution_count": 16,
   "metadata": {},
   "outputs": [
    {
     "data": {
      "text/html": [
       "<div>\n",
       "<style scoped>\n",
       "    .dataframe tbody tr th:only-of-type {\n",
       "        vertical-align: middle;\n",
       "    }\n",
       "\n",
       "    .dataframe tbody tr th {\n",
       "        vertical-align: top;\n",
       "    }\n",
       "\n",
       "    .dataframe thead th {\n",
       "        text-align: right;\n",
       "    }\n",
       "</style>\n",
       "<table border=\"1\" class=\"dataframe\">\n",
       "  <thead>\n",
       "    <tr style=\"text-align: right;\">\n",
       "      <th></th>\n",
       "      <th>t</th>\n",
       "      <th>hashtag_count</th>\n",
       "    </tr>\n",
       "  </thead>\n",
       "  <tbody>\n",
       "    <tr>\n",
       "      <th>0</th>\n",
       "      <td>2020-01-31 23:00:00</td>\n",
       "      <td>7.0</td>\n",
       "    </tr>\n",
       "    <tr>\n",
       "      <th>1</th>\n",
       "      <td>2020-01-31 23:10:00</td>\n",
       "      <td>7.0</td>\n",
       "    </tr>\n",
       "    <tr>\n",
       "      <th>2</th>\n",
       "      <td>2020-01-31 23:20:00</td>\n",
       "      <td>2.0</td>\n",
       "    </tr>\n",
       "    <tr>\n",
       "      <th>3</th>\n",
       "      <td>2020-01-31 23:30:00</td>\n",
       "      <td>2.0</td>\n",
       "    </tr>\n",
       "    <tr>\n",
       "      <th>4</th>\n",
       "      <td>2020-01-31 23:40:00</td>\n",
       "      <td>7.0</td>\n",
       "    </tr>\n",
       "    <tr>\n",
       "      <th>...</th>\n",
       "      <td>...</td>\n",
       "      <td>...</td>\n",
       "    </tr>\n",
       "    <tr>\n",
       "      <th>143</th>\n",
       "      <td>2020-02-01 22:50:00</td>\n",
       "      <td>0.0</td>\n",
       "    </tr>\n",
       "    <tr>\n",
       "      <th>144</th>\n",
       "      <td>2020-02-01 23:00:00</td>\n",
       "      <td>0.0</td>\n",
       "    </tr>\n",
       "    <tr>\n",
       "      <th>145</th>\n",
       "      <td>2020-02-01 23:10:00</td>\n",
       "      <td>0.0</td>\n",
       "    </tr>\n",
       "    <tr>\n",
       "      <th>146</th>\n",
       "      <td>2020-02-01 23:20:00</td>\n",
       "      <td>0.0</td>\n",
       "    </tr>\n",
       "    <tr>\n",
       "      <th>147</th>\n",
       "      <td>2020-02-01 23:30:00</td>\n",
       "      <td>0.0</td>\n",
       "    </tr>\n",
       "  </tbody>\n",
       "</table>\n",
       "<p>148 rows × 2 columns</p>\n",
       "</div>"
      ],
      "text/plain": [
       "                      t  hashtag_count\n",
       "0   2020-01-31 23:00:00            7.0\n",
       "1   2020-01-31 23:10:00            7.0\n",
       "2   2020-01-31 23:20:00            2.0\n",
       "3   2020-01-31 23:30:00            2.0\n",
       "4   2020-01-31 23:40:00            7.0\n",
       "..                  ...            ...\n",
       "143 2020-02-01 22:50:00            0.0\n",
       "144 2020-02-01 23:00:00            0.0\n",
       "145 2020-02-01 23:10:00            0.0\n",
       "146 2020-02-01 23:20:00            0.0\n",
       "147 2020-02-01 23:30:00            0.0\n",
       "\n",
       "[148 rows x 2 columns]"
      ]
     },
     "execution_count": 16,
     "metadata": {},
     "output_type": "execute_result"
    }
   ],
   "source": [
    "hashtag_trend_df"
   ]
  },
  {
   "cell_type": "code",
   "execution_count": 17,
   "metadata": {},
   "outputs": [],
   "source": [
    "hashtag_trend_df['eta'] = 0."
   ]
  },
  {
   "cell_type": "code",
   "execution_count": 23,
   "metadata": {},
   "outputs": [],
   "source": [
    "import scipy.stats.distributions as dists\n",
    "def get_eta(row):\n",
    "    # inspired by the code https://github.com/twitterdev/Gnip-Trend-Detection/blob/master/gnip_trend_detection/models.py\n",
    "    index = row.name\n",
    "    if index == 0:\n",
    "        return 0\n",
    "    else:\n",
    "        last_count = hashtag_trend_df.loc[index-1].hashtag_count\n",
    "        \n",
    "    current_count = row.hashtag_count\n",
    "\n",
    "    if last_count == 0 or current_count == 0:\n",
    "        return 0\n",
    "\n",
    "    Delta_r = abs(current_count - last_count) \n",
    "    sensitivity = float(Delta_r)/last_count \n",
    "    delta_r = dists.poisson.interval(alpha,last_count)[1] - dists.poisson.interval(alpha,last_count)[0]\n",
    "    relative_confidence_interval = delta_r/last_count\n",
    "    return sensitivity/relative_confidence_interval\n",
    "\n",
    "hashtag_trend_df['eta'] = hashtag_trend_df.apply(get_eta, axis=1)"
   ]
  },
  {
   "cell_type": "code",
   "execution_count": 19,
   "metadata": {},
   "outputs": [
    {
     "data": {
      "text/plain": [
       "(75.0, 127.0)"
      ]
     },
     "execution_count": 19,
     "metadata": {},
     "output_type": "execute_result"
    }
   ],
   "source": [
    "dists.poisson.interval(0.99,100)"
   ]
  },
  {
   "cell_type": "code",
   "execution_count": 20,
   "metadata": {},
   "outputs": [
    {
     "data": {
      "text/html": [
       "<div>\n",
       "<style scoped>\n",
       "    .dataframe tbody tr th:only-of-type {\n",
       "        vertical-align: middle;\n",
       "    }\n",
       "\n",
       "    .dataframe tbody tr th {\n",
       "        vertical-align: top;\n",
       "    }\n",
       "\n",
       "    .dataframe thead th {\n",
       "        text-align: right;\n",
       "    }\n",
       "</style>\n",
       "<table border=\"1\" class=\"dataframe\">\n",
       "  <thead>\n",
       "    <tr style=\"text-align: right;\">\n",
       "      <th></th>\n",
       "      <th>hashtag_count</th>\n",
       "      <th>eta</th>\n",
       "    </tr>\n",
       "    <tr>\n",
       "      <th>t</th>\n",
       "      <th></th>\n",
       "      <th></th>\n",
       "    </tr>\n",
       "  </thead>\n",
       "  <tbody>\n",
       "    <tr>\n",
       "      <th>2020-01-31 23:00:00</th>\n",
       "      <td>7.0</td>\n",
       "      <td>0.000000</td>\n",
       "    </tr>\n",
       "    <tr>\n",
       "      <th>2020-01-31 23:10:00</th>\n",
       "      <td>7.0</td>\n",
       "      <td>0.000000</td>\n",
       "    </tr>\n",
       "    <tr>\n",
       "      <th>2020-01-31 23:20:00</th>\n",
       "      <td>2.0</td>\n",
       "      <td>0.357143</td>\n",
       "    </tr>\n",
       "    <tr>\n",
       "      <th>2020-01-31 23:30:00</th>\n",
       "      <td>2.0</td>\n",
       "      <td>0.000000</td>\n",
       "    </tr>\n",
       "    <tr>\n",
       "      <th>2020-01-31 23:40:00</th>\n",
       "      <td>7.0</td>\n",
       "      <td>0.833333</td>\n",
       "    </tr>\n",
       "    <tr>\n",
       "      <th>...</th>\n",
       "      <td>...</td>\n",
       "      <td>...</td>\n",
       "    </tr>\n",
       "    <tr>\n",
       "      <th>2020-02-01 22:50:00</th>\n",
       "      <td>0.0</td>\n",
       "      <td>0.000000</td>\n",
       "    </tr>\n",
       "    <tr>\n",
       "      <th>2020-02-01 23:00:00</th>\n",
       "      <td>0.0</td>\n",
       "      <td>0.000000</td>\n",
       "    </tr>\n",
       "    <tr>\n",
       "      <th>2020-02-01 23:10:00</th>\n",
       "      <td>0.0</td>\n",
       "      <td>0.000000</td>\n",
       "    </tr>\n",
       "    <tr>\n",
       "      <th>2020-02-01 23:20:00</th>\n",
       "      <td>0.0</td>\n",
       "      <td>0.000000</td>\n",
       "    </tr>\n",
       "    <tr>\n",
       "      <th>2020-02-01 23:30:00</th>\n",
       "      <td>0.0</td>\n",
       "      <td>0.000000</td>\n",
       "    </tr>\n",
       "  </tbody>\n",
       "</table>\n",
       "<p>148 rows × 2 columns</p>\n",
       "</div>"
      ],
      "text/plain": [
       "                     hashtag_count       eta\n",
       "t                                           \n",
       "2020-01-31 23:00:00            7.0  0.000000\n",
       "2020-01-31 23:10:00            7.0  0.000000\n",
       "2020-01-31 23:20:00            2.0  0.357143\n",
       "2020-01-31 23:30:00            2.0  0.000000\n",
       "2020-01-31 23:40:00            7.0  0.833333\n",
       "...                            ...       ...\n",
       "2020-02-01 22:50:00            0.0  0.000000\n",
       "2020-02-01 23:00:00            0.0  0.000000\n",
       "2020-02-01 23:10:00            0.0  0.000000\n",
       "2020-02-01 23:20:00            0.0  0.000000\n",
       "2020-02-01 23:30:00            0.0  0.000000\n",
       "\n",
       "[148 rows x 2 columns]"
      ]
     },
     "execution_count": 20,
     "metadata": {},
     "output_type": "execute_result"
    }
   ],
   "source": [
    "hashtag_trend_df = hashtag_trend_df.set_index('t')\n",
    "hashtag_trend_df"
   ]
  },
  {
   "cell_type": "code",
   "execution_count": 21,
   "metadata": {},
   "outputs": [
    {
     "data": {
      "image/png": "[encoded data removed]",
      "text/plain": [
       "<Figure size 432x288 with 2 Axes>"
      ]
     },
     "metadata": {
      "needs_background": "light"
     },
     "output_type": "display_data"
    }
   ],
   "source": [
    "axes = hashtag_trend_df.plot.line(subplots=True)"
   ]
  }
 ],
 "metadata": {
  "kernelspec": {
   "display_name": "Python 3",
   "language": "python",
   "name": "python3"
  },
  "language_info": {
   "codemirror_mode": {
    "name": "ipython",
    "version": 3
   },
   "file_extension": ".py",
   "mimetype": "text/x-python",
   "name": "python",
   "nbconvert_exporter": "python",
   "pygments_lexer": "ipython3",
   "version": "3.7.6"
  }
 },
 "nbformat": 4,
 "nbformat_minor": 4
}
